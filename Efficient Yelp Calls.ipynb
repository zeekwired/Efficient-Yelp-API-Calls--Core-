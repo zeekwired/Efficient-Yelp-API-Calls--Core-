{
 "cells": [
  {
   "cell_type": "code",
   "execution_count": 1,
   "metadata": {},
   "outputs": [
    {
     "ename": "ModuleNotFoundError",
     "evalue": "No module named 'yelpapi'",
     "output_type": "error",
     "traceback": [
      "\u001b[1;31m---------------------------------------------------------------------------\u001b[0m",
      "\u001b[1;31mModuleNotFoundError\u001b[0m                       Traceback (most recent call last)",
      "\u001b[1;32mc:\\Users\\zachd\\Documents\\GitHub\\Efficient-Yelp-API-Calls--Core-\\Efficient Yelp Calls.ipynb Cell 1\u001b[0m in \u001b[0;36m9\n\u001b[0;32m      <a href='vscode-notebook-cell:/c%3A/Users/zachd/Documents/GitHub/Efficient-Yelp-API-Calls--Core-/Efficient%20Yelp%20Calls.ipynb#W0sZmlsZQ%3D%3D?line=6'>7</a>\u001b[0m \u001b[39mimport\u001b[39;00m \u001b[39mos\u001b[39;00m\u001b[39m,\u001b[39m \u001b[39mjson\u001b[39;00m\u001b[39m,\u001b[39m \u001b[39mmath\u001b[39;00m\u001b[39m,\u001b[39m \u001b[39mtime\u001b[39;00m\n\u001b[0;32m      <a href='vscode-notebook-cell:/c%3A/Users/zachd/Documents/GitHub/Efficient-Yelp-API-Calls--Core-/Efficient%20Yelp%20Calls.ipynb#W0sZmlsZQ%3D%3D?line=7'>8</a>\u001b[0m \u001b[39mfrom\u001b[39;00m \u001b[39mtqdm\u001b[39;00m\u001b[39m.\u001b[39;00m\u001b[39mnotebook\u001b[39;00m \u001b[39mimport\u001b[39;00m tqdm_notebook\n\u001b[1;32m----> <a href='vscode-notebook-cell:/c%3A/Users/zachd/Documents/GitHub/Efficient-Yelp-API-Calls--Core-/Efficient%20Yelp%20Calls.ipynb#W0sZmlsZQ%3D%3D?line=8'>9</a>\u001b[0m \u001b[39mfrom\u001b[39;00m \u001b[39myelpapi\u001b[39;00m \u001b[39mimport\u001b[39;00m YelpAPI\n",
      "\u001b[1;31mModuleNotFoundError\u001b[0m: No module named 'yelpapi'"
     ]
    }
   ],
   "source": [
    "# Standard Imports\n",
    "import numpy as np\n",
    "import pandas as pd\n",
    "import matplotlib.pyplot as plt\n",
    "import seaborn as sns\n",
    "# Additional Imports\n",
    "import os, json, math, time\n",
    "from tqdm.notebook import tqdm_notebook\n",
    "from yelpapi import YelpAPI"
   ]
  },
  {
   "cell_type": "code",
   "execution_count": 5,
   "metadata": {},
   "outputs": [
    {
     "ename": "NameError",
     "evalue": "name 'YelpAPI' is not defined",
     "output_type": "error",
     "traceback": [
      "\u001b[1;31m---------------------------------------------------------------------------\u001b[0m",
      "\u001b[1;31mNameError\u001b[0m                                 Traceback (most recent call last)",
      "\u001b[1;32mc:\\Users\\zachd\\Documents\\GitHub\\Efficient-Yelp-API-Calls--Core-\\Efficient Yelp Calls.ipynb Cell 2\u001b[0m in \u001b[0;36m5\n\u001b[0;32m      <a href='vscode-notebook-cell:/c%3A/Users/zachd/Documents/GitHub/Efficient-Yelp-API-Calls--Core-/Efficient%20Yelp%20Calls.ipynb#W1sZmlsZQ%3D%3D?line=2'>3</a>\u001b[0m     login \u001b[39m=\u001b[39m json\u001b[39m.\u001b[39mload(f)\n\u001b[0;32m      <a href='vscode-notebook-cell:/c%3A/Users/zachd/Documents/GitHub/Efficient-Yelp-API-Calls--Core-/Efficient%20Yelp%20Calls.ipynb#W1sZmlsZQ%3D%3D?line=3'>4</a>\u001b[0m \u001b[39m# Instantiate YelpAPI Variable\u001b[39;00m\n\u001b[1;32m----> <a href='vscode-notebook-cell:/c%3A/Users/zachd/Documents/GitHub/Efficient-Yelp-API-Calls--Core-/Efficient%20Yelp%20Calls.ipynb#W1sZmlsZQ%3D%3D?line=4'>5</a>\u001b[0m yelp_api \u001b[39m=\u001b[39m YelpAPI(login[\u001b[39m'\u001b[39m\u001b[39mapi_key\u001b[39m\u001b[39m'\u001b[39m])\n",
      "\u001b[1;31mNameError\u001b[0m: name 'YelpAPI' is not defined"
     ]
    }
   ],
   "source": [
    "# Load API Credentials\n",
    "with open(r'/Users/zachd/.secret/yelp_api.json') as f:\n",
    "    login = json.load(f)\n",
    "# Instantiate YelpAPI Variable\n",
    "yelp_api = YelpAPI(login['api_key'], timeout_s=5.0)"
   ]
  }
 ],
 "metadata": {
  "kernelspec": {
   "display_name": "Python (dojo-env)",
   "language": "python",
   "name": "dojo-env"
  },
  "language_info": {
   "codemirror_mode": {
    "name": "ipython",
    "version": 3
   },
   "file_extension": ".py",
   "mimetype": "text/x-python",
   "name": "python",
   "nbconvert_exporter": "python",
   "pygments_lexer": "ipython3",
   "version": "3.9.15"
  },
  "orig_nbformat": 4
 },
 "nbformat": 4,
 "nbformat_minor": 2
}
